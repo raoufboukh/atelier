{
 "cells": [
  {
   "cell_type": "markdown",
   "id": "af0e56a6-844b-4a53-a3d3-9d28f433bd0d",
   "metadata": {},
   "source": [
    "# **Workshop: Building an Artificial Neural Network (ANN) for MNIST Classification**\n",
    "\n",
    "## Prepared by:\n",
    "- **Dr. Guelib Bouchra** \n",
    "- **Dr. Bechinia Hadjer** \n",
    "- **Dr. Bounab Rayene** \n",
    "\n",
    "\n",
    "Let's dive in and train some powerful models together! 🚀🔥\n",
    "\n",
    "## 🤓 Meet Your Instructors 🎓\n",
    "\n",
    "Introducing the AI Gurus, the Lords of the Layers, the Wizards of Weights! 🧙‍♂️💻\n",
    "\n",
    "- **Dr. Neural Net** 🧠: Can backpropagate in his sleep!\n",
    "- **Professor Epoch** ⏳: Believes training should never stop!\n",
    "- **Sir Activation Function** ⚡: Switches between ReLU and Sigmoid faster than light!\n",
    "- **Captain Overfit** 🚀: Always adding one more layer... just in case!\n",
    "- **The Dropout Duo** 🎭: Regularizing everything, everywhere, all at once!\n",
    "\n",
    "Let's dive in and train some powerful models together! 🚀🔥\n",
    "\n",
    "## **Objective**\n",
    "In this workshop, we will build a simple **Artificial Neural Network (ANN)** to classify handwritten digits using the **MNIST dataset**. The key goals are:\n",
    "- Understand the structure of an ANN.\n",
    "- Train an ANN using TensorFlow/Keras.\n",
    "- Make predictions and visualize results.\n",
    "\n",
    "---\n",
    "# **Step One Build a simple ANN**\n",
    "---\n"
   ]
  },
  {
   "cell_type": "markdown",
   "id": "a7fc8d06-681a-467a-bf67-16c9029e3487",
   "metadata": {},
   "source": [
    "\n",
    "## **1. Load the Dataset**\n",
    "- Import the MNIST dataset from `keras.datasets`.\n",
    "- Load training images and labels.\n",
    "- We will **not** use the test set in this workshop.\n",
    "\n",
    "## **2. Preprocess the Data**\n",
    "- Normalize pixel values to the range **[0,1]** for faster training.\n",
    "- Flatten **28×28** images into a **1D array of 784 features**.\n",
    "\n",
    "\n",
    "\n"
   ]
  },
  {
   "cell_type": "code",
   "execution_count": 2,
   "id": "c5d10e53-1774-4ee8-b5a5-14a03e061350",
   "metadata": {},
   "outputs": [
    {
     "name": "stderr",
     "output_type": "stream",
     "text": [
      "2025-02-11 11:19:01.498924: I external/local_xla/xla/tsl/cuda/cudart_stub.cc:32] Could not find cuda drivers on your machine, GPU will not be used.\n",
      "2025-02-11 11:19:01.502020: I external/local_xla/xla/tsl/cuda/cudart_stub.cc:32] Could not find cuda drivers on your machine, GPU will not be used.\n",
      "2025-02-11 11:19:01.512114: E external/local_xla/xla/stream_executor/cuda/cuda_fft.cc:477] Unable to register cuFFT factory: Attempting to register factory for plugin cuFFT when one has already been registered\n",
      "WARNING: All log messages before absl::InitializeLog() is called are written to STDERR\n",
      "E0000 00:00:1739269141.530190    8350 cuda_dnn.cc:8310] Unable to register cuDNN factory: Attempting to register factory for plugin cuDNN when one has already been registered\n",
      "E0000 00:00:1739269141.535408    8350 cuda_blas.cc:1418] Unable to register cuBLAS factory: Attempting to register factory for plugin cuBLAS when one has already been registered\n",
      "2025-02-11 11:19:01.552334: I tensorflow/core/platform/cpu_feature_guard.cc:210] This TensorFlow binary is optimized to use available CPU instructions in performance-critical operations.\n",
      "To enable the following instructions: AVX2 FMA, in other operations, rebuild TensorFlow with the appropriate compiler flags.\n"
     ]
    }
   ],
   "source": [
    "import tensorflow as tf\n",
    "from tensorflow import keras\n",
    "import numpy as np\n",
    "import matplotlib.pyplot as plt\n",
    "\n",
    "# Load the MNIST dataset (handwritten digits 0-9)\n",
    "(x_train, y_train), (_, _) = keras.datasets.mnist.load_data()  # Ignore test set\n",
    "\n",
    "# Normalize the pixel values (0-255) to range (0-1)\n",
    "x_train = x_train / 255.0\n",
    "\n",
    "# Flatten the images (from 28x28 to 784 input features)\n",
    "x_train = x_train.reshape(-1, 28*28)\n",
    "\n"
   ]
  },
  {
   "cell_type": "markdown",
   "id": "e37180f5-5f37-4c90-a1f8-80e9c8686aa0",
   "metadata": {},
   "source": [
    "## **3. Define the ANN Model**\n",
    "- Input Layer: **128 neurons** (Sigmoid activation).\n",
    "- Hidden Layer: **64 neurons** (Sigmoid activation).\n",
    "- Output Layer: **10 neurons** (Sigmoid activation).\n",
    "\n",
    "## **4. Compile & Train the Model**\n",
    "- Use **Adam optimizer** for efficient training.\n",
    "- Use **Sparse Categorical Crossentropy** as the loss function.\n",
    "- Train with **only one iteration** (`epochs=1`).\n",
    "- Use the **entire dataset in one batch**.\n",
    "\n"
   ]
  },
  {
   "cell_type": "code",
   "execution_count": 3,
   "id": "080b27dd-6d82-4f59-9480-02f0d80f1f2a",
   "metadata": {},
   "outputs": [
    {
     "name": "stderr",
     "output_type": "stream",
     "text": [
      "/home/linux/anaconda3/lib/python3.12/site-packages/keras/src/layers/core/dense.py:87: UserWarning: Do not pass an `input_shape`/`input_dim` argument to a layer. When using Sequential models, prefer using an `Input(shape)` object as the first layer in the model instead.\n",
      "  super().__init__(activity_regularizer=activity_regularizer, **kwargs)\n",
      "2025-02-11 11:19:05.442698: E external/local_xla/xla/stream_executor/cuda/cuda_driver.cc:152] failed call to cuInit: INTERNAL: CUDA error: Failed call to cuInit: CUDA_ERROR_NO_DEVICE: no CUDA-capable device is detected\n"
     ]
    }
   ],
   "source": [
    "# Define an ANN model with Sigmoid activation in all layers\n",
    "model = keras.Sequential([\n",
    "    keras.layers.Dense(128, activation='sigmoid', input_shape=(784,)),  # Input Layer\n",
    "    keras.layers.Dense(64, activation='sigmoid'),  # Hidden Layer\n",
    "    keras.layers.Dense(10, activation='sigmoid')  # Output Layer (10 classes)\n",
    "])\n",
    "\n",
    "# Compile the model\n",
    "model.compile(optimizer='adam',\n",
    "              loss='sparse_categorical_crossentropy',\n",
    "              metrics=['accuracy'])\n",
    "\n"
   ]
  },
  {
   "cell_type": "markdown",
   "id": "82e93611-7e8f-41d7-8700-78c0748de39c",
   "metadata": {},
   "source": [
    "## **5. Make Predictions & Visualize Results**\n",
    "- Predict the class of a sample digit.\n",
    "- Display the image and the model’s predicted label.\n",
    "\n",
    "\n",
    "\n"
   ]
  },
  {
   "cell_type": "code",
   "execution_count": 4,
   "id": "c0bf2b15-4a41-441b-8693-42d1e5e94bf5",
   "metadata": {},
   "outputs": [
    {
     "name": "stdout",
     "output_type": "stream",
     "text": [
      "\u001b[1m1/1\u001b[0m \u001b[32m━━━━━━━━━━━━━━━━━━━━\u001b[0m\u001b[37m\u001b[0m \u001b[1m1s\u001b[0m 990ms/step - accuracy: 0.0999 - loss: 2.4435\n",
      "\u001b[1m1875/1875\u001b[0m \u001b[32m━━━━━━━━━━━━━━━━━━━━\u001b[0m\u001b[37m\u001b[0m \u001b[1m2s\u001b[0m 839us/step\n"
     ]
    }
   ],
   "source": [
    "# Train the model with only one iteration (epoch = 1) using all training data\n",
    "model.fit(x_train, y_train, epochs=1, batch_size=len(x_train), verbose=1)\n",
    "\n",
    "# Predict on some training images\n",
    "predictions = model.predict(x_train)\n",
    "\n"
   ]
  },
  {
   "cell_type": "code",
   "execution_count": 9,
   "id": "da41980b-1fff-4be8-a098-24898ca995ef",
   "metadata": {},
   "outputs": [
    {
     "data": {
      "image/png": "[encoded data removed]",
      "text/plain": [
       "<Figure size 640x480 with 1 Axes>"
      ]
     },
     "metadata": {},
     "output_type": "display_data"
    }
   ],
   "source": [
    "# Display a sample prediction\n",
    "index = 0  # Change index to see different images\n",
    "plt.imshow(x_train[index].reshape(28, 28), cmap='gray')\n",
    "plt.title(f\"Predicted: {np.argmax(predictions[index])}, Actual: {y_train[index]}\")\n",
    "plt.show()\n"
   ]
  },
  {
   "cell_type": "markdown",
   "id": "6a7265aa-f78b-4d78-9676-97070d1a478f",
   "metadata": {},
   "source": [
    "# **Step two: Increasing the Number of Iterations (Epochs)**\n",
    "\n",
    "## **Objective**\n",
    "In this step, we will modify the ANN training process by increasing the **number of iterations (epochs) from 1 to 10**.  \n",
    "This will help us **observe the effect of multiple iterations on model performance**, particularly how **loss and accuracy** change over time.\n",
    "\n",
    "---\n",
    "\n",
    "## **Key Concept: Loss vs Cost**\n",
    "🔹 **Loss**: The error for a single training example.  \n",
    "🔹 **Cost**: The average loss over all training examples.\n",
    "\n",
    "- When we **train for more epochs**, the loss **should decrease**, and the accuracy **should improve**.\n",
    "- The cost function provides a **measure of how well the model is performing** over multiple epochs.\n",
    "\n",
    "---\n",
    "\n",
    "## **Modification**\n",
    "- **Previous setting:** `epochs=1`\n",
    "- **New setting:** `epochs=10`\n",
    "- Everything else (model, activation functions, optimizer, dataset) **remains the same**.\n",
    "\n",
    "---\n",
    "\n",
    "## **Expected Outcome**\n",
    "1. **Loss should decrease** over multiple epochs as the model learns better representations.\n",
    "2. **Accuracy should increase** since the model has more opportunities to adjust weights.\n",
    "\n",
    "\n",
    "---\n",
    "\n",
    "## **Instructions**\n",
    "- Change `epochs=1` to `epochs=10` in the training step:\n",
    "```python\n",
    "model.fit(x_train, y_train, epochs=10, batch_size=len(x_train), verbose=1) 🚀\n"
   ]
  },
  {
   "cell_type": "code",
   "execution_count": 6,
   "id": "5d455715-de20-4d5f-bbaa-7b6b362d2f71",
   "metadata": {},
   "outputs": [],
   "source": [
    "# Can you try that by yourself ?"
   ]
  },
  {
   "cell_type": "markdown",
   "id": "0ef43eed-70ce-48e0-937a-905ff4928c80",
   "metadata": {},
   "source": [
    "\n",
    "## Discussion\n",
    "\n",
    "* Did the **loss** decrease compared to training with just 1 epoch?\n",
    "* How did the **accuracy** improve after multiple iterations?\n",
    "* Can we observe **overfitting** if we train for too many epochs?\n",
    "\n",
    "---\n",
    "\n"
   ]
  },
  {
   "cell_type": "markdown",
   "id": "7b7098d5-0b94-496a-8955-fc20896f2dfe",
   "metadata": {},
   "source": [
    "# Step Three: Experimenting with Model Parameters\n",
    "\n",
    "## Objective\n",
    "\n",
    "In this step, we will explore how different **hyperparameters** affect the performance of our ANN model.  \n",
    "We will modify:\n",
    "\n",
    "1. **Activation functions**\n",
    "2. **Loss functions**\n",
    "3. **Optimizers**\n",
    "4. **Number of layers and neurons**\n",
    "\n",
    "By testing these changes, we can analyze their impact on **training performance, accuracy, and convergence speed**.\n",
    "\n",
    "---\n"
   ]
  },
  {
   "cell_type": "markdown",
   "id": "64015f46-6e73-41b7-82b5-a58a4e15667d",
   "metadata": {},
   "source": [
    "\n",
    "## 1 Changing the Activation Function\n",
    "\n",
    "The activation function determines how neurons in the network process data.  \n",
    "The default setting was **Sigmoid**, but we can try:\n",
    "\n",
    "* **ReLU** (`activation='relu'`) - Helps with vanishing gradients.\n",
    "* **Tanh** (`activation='tanh'`) - Centered at zero, useful for some cases.\n",
    "* **Softmax** (`activation='softmax'`) - Typically used for output layers in classification.\n",
    "\n",
    "🔹 **Modify the activation function in each layer**:\n",
    "\n",
    "```python\n",
    "model = keras.Sequential([\n",
    "    keras.layers.Dense(128, activation='relu', input_shape=(784,)),\n",
    "    keras.layers.Dense(64, activation='relu'),\n",
    "    keras.layers.Dense(10, activation='softmax')  # Output layer\n",
    "])\n",
    "```\n",
    "\n",
    "---"
   ]
  },
  {
   "cell_type": "code",
   "execution_count": null,
   "id": "3c375195-a4ca-41ed-abd8-568dee38749f",
   "metadata": {},
   "outputs": [],
   "source": [
    "# Give it a  try that by yourself ?"
   ]
  },
  {
   "cell_type": "markdown",
   "id": "d5597a89-8a12-4acc-82b0-11a7618ae007",
   "metadata": {},
   "source": [
    "\n",
    "## 2 Changing the Loss Function\n",
    "\n",
    "The loss function determines how the model measures errors.  \n",
    "The default was **Sparse Categorical Crossentropy**, but we can try:\n",
    "\n",
    "* **Categorical Crossentropy** (`loss='categorical_crossentropy'`)\n",
    "* **Mean Squared Error (MSE)** (`loss='mse'`) - Rarely used for classification.\n",
    "\n",
    "🔹 **Modify the loss function** when compiling the model:\n",
    "\n",
    "```python\n",
    "model.compile(optimizer='adam', loss='categorical_crossentropy', metrics=['accuracy'])\n",
    "```\n",
    "\n",
    "---\n"
   ]
  },
  {
   "cell_type": "code",
   "execution_count": null,
   "id": "11854c28-a5f4-4aa2-bcf4-52c11e506847",
   "metadata": {},
   "outputs": [],
   "source": [
    "# Did you understand ? show me!"
   ]
  },
  {
   "cell_type": "markdown",
   "id": "a6deca93-5ca0-460d-8290-af6ea3fa9be2",
   "metadata": {},
   "source": [
    "## 3 Changing the Optimizer\n",
    "\n",
    "Optimizers control how the model updates weights.  \n",
    "The default was **Adam**, but we can try:\n",
    "\n",
    "* **SGD (Stochastic Gradient Descent)** (`optimizer='sgd'`) - Simple but slower convergence.\n",
    "* **RMSprop** (`optimizer='rmsprop'`) - Adaptive learning rate.\n",
    "* **Adagrad** (`optimizer='adagrad'`) - Good for sparse data.\n",
    "\n",
    "🔹 **Modify the optimizer when compiling the model**:\n",
    "\n",
    "```python\n",
    "model.compile(optimizer='sgd', loss='sparse_categorical_crossentropy', metrics=['accuracy'])\n",
    "```\n",
    "\n",
    "---"
   ]
  },
  {
   "cell_type": "code",
   "execution_count": null,
   "id": "cf4432fd-15c5-4817-8288-eb256a33bf74",
   "metadata": {},
   "outputs": [],
   "source": [
    "# Discover this point!"
   ]
  },
  {
   "cell_type": "markdown",
   "id": "a4ad42c9-7ffa-4826-b744-125c3f3ef299",
   "metadata": {},
   "source": [
    "## 4 Adding More Layers\n",
    "\n",
    "More layers can improve learning but may also lead to overfitting.  \n",
    "Try:\n",
    "\n",
    "* **Adding an extra hidden layer**.\n",
    "* **Increasing/decreasing the number of neurons per layer**.\n",
    "\n",
    "🔹 **Modify the model structure**:\n",
    "\n",
    "```python\n",
    "model = keras.Sequential([\n",
    "    keras.layers.Dense(256, activation='relu', input_shape=(784,)),  # More neurons\n",
    "    keras.layers.Dense(128, activation='relu'),\n",
    "    keras.layers.Dense(64, activation='relu'),\n",
    "    keras.layers.Dense(10, activation='softmax')\n",
    "])\n",
    "```\n",
    "\n",
    "---\n"
   ]
  },
  {
   "cell_type": "code",
   "execution_count": null,
   "id": "7d53a2b4-6c04-4090-86b5-012c794c3c2a",
   "metadata": {},
   "outputs": [],
   "source": [
    "# Can you do it?"
   ]
  },
  {
   "cell_type": "markdown",
   "id": "c2031b4c-1f0d-461e-8a90-1773f24c9a09",
   "metadata": {},
   "source": [
    "## 🔎 Experiment & Observe\n",
    "\n",
    "Try different combinations and answer these questions:\n",
    "\n",
    "* How does changing the **activation function** affect accuracy?\n",
    "* Which **loss function** results in faster convergence?\n",
    "* Does changing the **optimizer** improve training speed?\n",
    "* How does adding **more layers** impact performance?\n",
    "\n",
    "---"
   ]
  },
  {
   "cell_type": "markdown",
   "id": "5c29f758-a0f7-4215-b2f2-ccc79718a1d4",
   "metadata": {},
   "source": [
    "# Step Four:  Splitting the Data into Training and Testing Sets\n",
    "\n",
    "### Objective\n",
    "\n",
    "Now that we have experimented with model parameters, the next step is to **split the dataset** into training and testing sets.\n",
    "\n",
    "### Why is Data Splitting Important?\n",
    "- **Training Set**: Used to teach the model.\n",
    "- **Testing Set**: Used to evaluate how well the model generalizes to unseen data.\n",
    "\n",
    "### Task for You\n",
    "🔹 **Modify the code to split the dataset into training and test sets.**\n",
    "- Use `sklearn.model_selection.train_test_split` to create a test set (e.g., 20% of the data).\n",
    "- Train the model only on the training set.\n",
    "- Evaluate the model on the test set to measure accuracy.\n",
    "\n",
    "\n"
   ]
  },
  {
   "cell_type": "code",
   "execution_count": 8,
   "id": "3206b363-c4f4-4fac-bf0c-931ccd3d3047",
   "metadata": {},
   "outputs": [],
   "source": [
    "# DO you think that you can do it ?"
   ]
  },
  {
   "cell_type": "markdown",
   "id": "a2fb2577-ac34-4610-b89e-f128781632e1",
   "metadata": {},
   "source": [
    "#  Step Five: Evaluating the Model Using Different Metrics\n",
    "\n",
    "### Objective\n",
    "\n",
    "Once we have split the dataset and trained our model, we need to evaluate its performance using different metrics. Accuracy alone is not always the best measure, especially in imbalanced datasets.\n",
    "\n",
    "### Common Evaluation Metrics\n",
    "- **Accuracy**: Measures the percentage of correctly predicted samples.\n",
    "- **Precision**: Measures how many of the predicted positive cases were actually positive.\n",
    "- **Recall (Sensitivity)**: Measures how many of the actual positive cases were correctly predicted.\n",
    "- **F1 Score**: Harmonic mean of precision and recall, useful for imbalanced datasets.\n",
    "- **Confusion Matrix**: Provides a breakdown of correct and incorrect predictions.\n",
    "\n",
    "### Task for You\n",
    "- **Modify the evaluation step to include multiple metrics.**\n",
    "\n",
    "### You need:\n",
    "- **Packages importation**:\n",
    "- **Predict on the test set**: \n",
    "- **Generate classification report**:\n",
    "- **Display confusion matrix**:\n",
    "\n",
    "\n",
    "🔹 **Run the model evaluation with different metrics and analyze the results!**\n"
   ]
  },
  {
   "cell_type": "code",
   "execution_count": null,
   "id": "d0184fab-ce19-4080-b583-18150127437f",
   "metadata": {},
   "outputs": [],
   "source": [
    "# we are almost theri, let's try one more time"
   ]
  },
  {
   "cell_type": "markdown",
   "id": "a5c8adb2-07b6-441b-a550-c7759dbc9da8",
   "metadata": {},
   "source": [
    "# Step Six: Printing Loss and Accuracy During Training\n",
    "\n",
    "## Objective\n",
    "\n",
    "Now that we have evaluated the model using different metrics, the next step is to **track and print the loss and accuracy during training**.\n",
    "\n",
    "## Why is This Important?\n",
    "- Helps us **visualize the learning process**.\n",
    "- Allows us to **detect overfitting**.\n",
    "- Provides insight into how well the model is performing over epochs.\n",
    "\n",
    "## Task for You\n",
    "🔹 **Modify the training step to store and print the loss and accuracy values at each epoch.**\n",
    "## You need to:\n",
    "- **Plot training & validation accuracy values**:\n",
    "- **Plot training & validation loss values**: \n",
    "\n",
    "\n"
   ]
  },
  {
   "cell_type": "code",
   "execution_count": null,
   "id": "41fa8a64-456a-4268-ae0e-f02e1ce80a09",
   "metadata": {},
   "outputs": [],
   "source": [
    "# This your final task, just try it :)"
   ]
  }
 ],
 "metadata": {
  "kernelspec": {
   "display_name": "Python [conda env:base] *",
   "language": "python",
   "name": "conda-base-py"
  },
  "language_info": {
   "codemirror_mode": {
    "name": "ipython",
    "version": 3
   },
   "file_extension": ".py",
   "mimetype": "text/x-python",
   "name": "python",
   "nbconvert_exporter": "python",
   "pygments_lexer": "ipython3",
   "version": "3.12.7"
  }
 },
 "nbformat": 4,
 "nbformat_minor": 5
}
